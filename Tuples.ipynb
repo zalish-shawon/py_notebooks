{
  "nbformat": 4,
  "nbformat_minor": 0,
  "metadata": {
    "colab": {
      "provenance": []
    },
    "kernelspec": {
      "name": "python3",
      "display_name": "Python 3"
    },
    "language_info": {
      "name": "python"
    }
  },
  "cells": [
    {
      "cell_type": "code",
      "metadata": {
        "colab": {
          "base_uri": "https://localhost:8080/"
        },
        "id": "d0cbb1b2",
        "outputId": "89ff7769-2dbe-499b-940e-88b63dd20f5b"
      },
      "source": [
        "# Creating a basic tuple\n",
        "my_tuple = (1, 2, 3, 4, 5)\n",
        "print(\"Basic tuple:\", my_tuple)\n",
        "\n",
        "# Accessing elements in a tuple (similar to lists)\n",
        "print(\"First element:\", my_tuple[0])\n",
        "print(\"Last element:\", my_tuple[-1])\n",
        "\n",
        "# Slicing a tuple\n",
        "print(\"Sliced tuple:\", my_tuple[1:4])\n",
        "\n",
        "# Tuples are immutable (cannot be changed after creation)\n",
        "# The following line would raise a TypeError:\n",
        "# my_tuple[0] = 10\n",
        "\n",
        "# A tuple with mixed data types\n",
        "mixed_tuple = (1, \"hello\", 3.14, True)\n",
        "print(\"Mixed tuple:\", mixed_tuple)\n",
        "\n",
        "# A tuple with a single element (requires a trailing comma)\n",
        "single_element_tuple = (5,)\n",
        "print(\"Single element tuple:\", single_element_tuple)\n",
        "\n",
        "# An empty tuple\n",
        "empty_tuple = ()\n",
        "print(\"Empty tuple:\", empty_tuple)"
      ],
      "execution_count": 2,
      "outputs": [
        {
          "output_type": "stream",
          "name": "stdout",
          "text": [
            "Basic tuple: (1, 2, 3, 4, 5)\n",
            "First element: 1\n",
            "Last element: 5\n",
            "Sliced tuple: (2, 3, 4)\n",
            "Mixed tuple: (1, 'hello', 3.14, True)\n",
            "Single element tuple: (5,)\n",
            "Empty tuple: ()\n"
          ]
        }
      ]
    }
  ]
}