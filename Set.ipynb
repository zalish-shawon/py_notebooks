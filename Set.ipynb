{
  "nbformat": 4,
  "nbformat_minor": 0,
  "metadata": {
    "colab": {
      "provenance": []
    },
    "kernelspec": {
      "name": "python3",
      "display_name": "Python 3"
    },
    "language_info": {
      "name": "python"
    }
  },
  "cells": [
    {
      "cell_type": "code",
      "metadata": {
        "colab": {
          "base_uri": "https://localhost:8080/"
        },
        "id": "7b4bde9c",
        "outputId": "45f34da2-f5c5-43b2-fa34-f131d250d32d"
      },
      "source": [
        "# Create a set\n",
        "my_set = {1, 2, 3, 4, 5}\n",
        "\n",
        "# Print the set\n",
        "print(\"My set:\", my_set)\n",
        "\n",
        "# Add an element to the set\n",
        "my_set.add(6)\n",
        "print(\"Set after adding an element:\", my_set)\n",
        "\n",
        "# Try to add a duplicate element (sets only store unique elements)\n",
        "my_set.add(3)\n",
        "print(\"Set after trying to add a duplicate:\", my_set)\n",
        "\n",
        "# Remove an element from the set\n",
        "my_set.remove(2)\n",
        "print(\"Set after removing an element:\", my_set)\n",
        "\n",
        "# Check if an element is in the set\n",
        "print(\"Is 4 in the set?\", 4 in my_set)\n",
        "print(\"Is 7 in the set?\", 7 in my_set)\n",
        "\n",
        "# Get the number of elements in the set\n",
        "print(\"Number of elements in the set:\", len(my_set))\n",
        "\n",
        "# Iterate through the set\n",
        "print(\"Iterating through the set:\")\n",
        "for item in my_set:\n",
        "    print(item)"
      ],
      "execution_count": 1,
      "outputs": [
        {
          "output_type": "stream",
          "name": "stdout",
          "text": [
            "My set: {1, 2, 3, 4, 5}\n",
            "Set after adding an element: {1, 2, 3, 4, 5, 6}\n",
            "Set after trying to add a duplicate: {1, 2, 3, 4, 5, 6}\n",
            "Set after removing an element: {1, 3, 4, 5, 6}\n",
            "Is 4 in the set? True\n",
            "Is 7 in the set? False\n",
            "Number of elements in the set: 5\n",
            "Iterating through the set:\n",
            "1\n",
            "3\n",
            "4\n",
            "5\n",
            "6\n"
          ]
        }
      ]
    }
  ]
}