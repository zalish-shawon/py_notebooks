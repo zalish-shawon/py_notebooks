{
  "nbformat": 4,
  "nbformat_minor": 0,
  "metadata": {
    "colab": {
      "provenance": [],
      "authorship_tag": "ABX9TyPzCLgmXHTYwhJAO5b+tYWx",
      "include_colab_link": true
    },
    "kernelspec": {
      "name": "python3",
      "display_name": "Python 3"
    },
    "language_info": {
      "name": "python"
    }
  },
  "cells": [
    {
      "cell_type": "markdown",
      "metadata": {
        "id": "view-in-github",
        "colab_type": "text"
      },
      "source": [
        "<a href=\"https://colab.research.google.com/github/zalish-shawon/py_notebooks/blob/main/numPy_practice.ipynb\" target=\"_parent\"><img src=\"https://colab.research.google.com/assets/colab-badge.svg\" alt=\"Open In Colab\"/></a>"
      ]
    },
    {
      "cell_type": "code",
      "execution_count": 10,
      "metadata": {
        "colab": {
          "base_uri": "https://localhost:8080/"
        },
        "id": "7HCzqww0mard",
        "outputId": "5aa470d4-d4ca-49c8-ae94-c16f5dee9a3c"
      },
      "outputs": [
        {
          "output_type": "stream",
          "name": "stdout",
          "text": [
            "0\n",
            "1\n",
            "2\n",
            "3\n"
          ]
        }
      ],
      "source": [
        "import numpy as np\n",
        "\n",
        "arr1 = np.array(42)\n",
        "arr2 = np.array([1,2,3,4,5])\n",
        "\n",
        "arr3 = np.array([[2,23,44], [34,88,36]])\n",
        "\n",
        "arr4 = np.array([[[2,23,44], [34,88,36], [89,100,102]]])\n",
        "\n",
        "\n",
        "print(arr1.ndim)\n",
        "print(arr2.ndim)\n",
        "print(arr3.ndim)\n",
        "print(arr4.ndim)\n",
        "\n",
        "\n"
      ]
    },
    {
      "cell_type": "markdown",
      "source": [
        "### Higher Dimensional Arrays"
      ],
      "metadata": {
        "id": "qgTMuIEyt5Lc"
      }
    },
    {
      "cell_type": "code",
      "source": [
        "arr = np.array([1,2,3,4,5], ndmin=5)\n",
        "\n",
        "print(arr)\n",
        "\n",
        "print(\"Number od Dimension: \",arr.ndim)"
      ],
      "metadata": {
        "colab": {
          "base_uri": "https://localhost:8080/"
        },
        "id": "WFu0L6Q5t7TT",
        "outputId": "0d25c9cb-74d6-43d7-b7b9-49efc1b56912"
      },
      "execution_count": 14,
      "outputs": [
        {
          "output_type": "stream",
          "name": "stdout",
          "text": [
            "[[[[[1 2 3 4 5]]]]]\n",
            "Number od Dimension:  5\n"
          ]
        }
      ]
    },
    {
      "cell_type": "markdown",
      "source": [
        "### NumPy Array Indexing"
      ],
      "metadata": {
        "id": "lyscQg3DudI0"
      }
    },
    {
      "cell_type": "code",
      "source": [
        "arr = np.array([[[1, 2, 3], [4, 5, 6]], [[7, 8, 9], [10, 11, 12]]])\n",
        "\n",
        "arr2 = np.array([[1,2,3,4,5], [6,7,8,9,10]])\n",
        "\n",
        "print(arr[0, 1])\n",
        "\n",
        "print(arr2[1,-1])\n"
      ],
      "metadata": {
        "colab": {
          "base_uri": "https://localhost:8080/"
        },
        "id": "nME9ANl9ufV0",
        "outputId": "00bf954e-4997-4939-d640-32558186c7a4"
      },
      "execution_count": 21,
      "outputs": [
        {
          "output_type": "stream",
          "name": "stdout",
          "text": [
            "[4 5 6]\n",
            "10\n"
          ]
        }
      ]
    },
    {
      "cell_type": "markdown",
      "source": [
        "## NumPy Array **Slicing**"
      ],
      "metadata": {
        "id": "2PE1IMzq65xN"
      }
    },
    {
      "cell_type": "code",
      "source": [
        "arr = np.array([1,2,3,4,5,6,7])\n",
        "\n",
        "print(arr[1:5])\n",
        "print(arr[0:5])\n",
        "print(arr[0:6])\n",
        "print(arr[0:7])\n",
        "print(arr[4:]) #Slice elements from index 4 to the end of the array\n",
        "print(arr[:4])\n",
        "print(arr[1:4:2])\n",
        "print(arr[::2])"
      ],
      "metadata": {
        "colab": {
          "base_uri": "https://localhost:8080/"
        },
        "id": "czT-S30T6_pd",
        "outputId": "15685819-d541-4295-d761-ce3ede27d5c4"
      },
      "execution_count": 32,
      "outputs": [
        {
          "output_type": "stream",
          "name": "stdout",
          "text": [
            "[2 3 4 5]\n",
            "[1 2 3 4 5]\n",
            "[1 2 3 4 5 6]\n",
            "[1 2 3 4 5 6 7]\n",
            "[5 6 7]\n",
            "[1 2 3 4]\n",
            "[2 4]\n",
            "[1 3 5 7]\n"
          ]
        }
      ]
    },
    {
      "cell_type": "code",
      "source": [
        "arr = np.array([1, 2, 3, 4])\n",
        "print(arr.dtype)\n",
        "\n",
        "arr = np.array(['apple', 'banana', 'cherry'])\n",
        "print(arr.dtype)\n",
        "\n",
        "arr = np.array([1, 2, 3, 4], dtype=\"S\")\n",
        "\n",
        "print(arr)\n",
        "print(arr.dtype)\n"
      ],
      "metadata": {
        "colab": {
          "base_uri": "https://localhost:8080/"
        },
        "id": "-AqW0Ti-EwYX",
        "outputId": "d0dbce89-f6ce-4f06-938f-d22343d9550f"
      },
      "execution_count": 35,
      "outputs": [
        {
          "output_type": "stream",
          "name": "stdout",
          "text": [
            "int64\n",
            "<U6\n",
            "[b'1' b'2' b'3' b'4']\n",
            "|S1\n"
          ]
        }
      ]
    }
  ]
}