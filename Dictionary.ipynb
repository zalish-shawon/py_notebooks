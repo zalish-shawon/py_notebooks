{
  "nbformat": 4,
  "nbformat_minor": 0,
  "metadata": {
    "colab": {
      "provenance": []
    },
    "kernelspec": {
      "name": "python3",
      "display_name": "Python 3"
    },
    "language_info": {
      "name": "python"
    }
  },
  "cells": [
    {
      "cell_type": "markdown",
      "metadata": {
        "id": "2fac7f47"
      },
      "source": [
        "A dictionary in Python is a collection of key-value pairs. Each key is connected to a value, and you can use a key to access the value associated with it. Dictionaries are unordered, mutable, and indexed by keys.\n",
        "\n",
        "Here's how you can create and work with dictionaries:"
      ]
    },
    {
      "cell_type": "code",
      "metadata": {
        "colab": {
          "base_uri": "https://localhost:8080/"
        },
        "id": "8d10cec9",
        "outputId": "09752a41-2cb2-4267-9c51-9f2629c3c654"
      },
      "source": [
        "# Creating a dictionary\n",
        "my_dict = {\n",
        "    \"name\": \"Alice\",\n",
        "    \"age\": 30,\n",
        "    \"city\": \"New York\"\n",
        "}\n",
        "\n",
        "# Accessing values using keys\n",
        "print(my_dict[\"name\"])\n",
        "print(my_dict[\"age\"])\n",
        "\n",
        "# Adding a new key-value pair\n",
        "my_dict[\"occupation\"] = \"Engineer\"\n",
        "print(my_dict)\n",
        "\n",
        "# Modifying a value\n",
        "my_dict[\"age\"] = 31\n",
        "print(my_dict)\n",
        "\n",
        "# Removing a key-value pair\n",
        "del my_dict[\"city\"]\n",
        "print(my_dict)\n",
        "\n",
        "# Checking if a key exists\n",
        "print(\"name\" in my_dict)\n",
        "print(\"address\" in my_dict)"
      ],
      "execution_count": 1,
      "outputs": [
        {
          "output_type": "stream",
          "name": "stdout",
          "text": [
            "Alice\n",
            "30\n",
            "{'name': 'Alice', 'age': 30, 'city': 'New York', 'occupation': 'Engineer'}\n",
            "{'name': 'Alice', 'age': 31, 'city': 'New York', 'occupation': 'Engineer'}\n",
            "{'name': 'Alice', 'age': 31, 'occupation': 'Engineer'}\n",
            "True\n",
            "False\n"
          ]
        }
      ]
    },
    {
      "cell_type": "markdown",
      "metadata": {
        "id": "d956754a"
      },
      "source": [
        "Dictionary comprehension provides a concise way to create dictionaries. It consists of an expression pair (key: value) followed by a `for` clause, and then zero or more `for` or `if` clauses.\n",
        "\n",
        "Here's the basic syntax:"
      ]
    },
    {
      "cell_type": "code",
      "metadata": {
        "colab": {
          "base_uri": "https://localhost:8080/"
        },
        "id": "e386df96",
        "outputId": "77dd545c-70e4-498f-a226-9fd1c6d4afb9"
      },
      "source": [
        "# Example 1: Creating a dictionary of squares\n",
        "squares = {x: x**2 for x in range(6)}\n",
        "print(squares)\n",
        "\n",
        "# Example 2: Creating a dictionary from two lists\n",
        "keys = ['a', 'b', 'c', 'd']\n",
        "values = [1, 2, 3, 4]\n",
        "my_dict = {k: v for k, v in zip(keys, values)}\n",
        "print(my_dict)\n",
        "\n",
        "# Example 3: Creating a dictionary with a condition\n",
        "even_squares = {x: x**2 for x in range(10) if x % 2 == 0}\n",
        "print(even_squares)"
      ],
      "execution_count": 2,
      "outputs": [
        {
          "output_type": "stream",
          "name": "stdout",
          "text": [
            "{0: 0, 1: 1, 2: 4, 3: 9, 4: 16, 5: 25}\n",
            "{'a': 1, 'b': 2, 'c': 3, 'd': 4}\n",
            "{0: 0, 2: 4, 4: 16, 6: 36, 8: 64}\n"
          ]
        }
      ]
    }
  ]
}